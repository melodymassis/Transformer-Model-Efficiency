{
 "cells": [
  {
   "cell_type": "code",
   "execution_count": null,
   "id": "895db9b0-14f8-4d92-8186-a2f0ee4e647e",
   "metadata": {},
   "outputs": [],
   "source": [
    "# Import Data from sources"
   ]
  },
  {
   "cell_type": "code",
   "execution_count": null,
   "id": "26df2ed3-578d-456a-b80e-4b99e00a84bb",
   "metadata": {},
   "outputs": [],
   "source": [
    "# Create Base models: Linear Regression and BERT"
   ]
  },
  {
   "cell_type": "code",
   "execution_count": 1,
   "id": "82ae900b-84d4-41d3-9649-2d8d9e524280",
   "metadata": {},
   "outputs": [],
   "source": [
    "# Efficiency testing Distillation"
   ]
  },
  {
   "cell_type": "code",
   "execution_count": null,
   "id": "8f5c7049-0a6f-429e-9348-aa381c5761b8",
   "metadata": {},
   "outputs": [],
   "source": []
  },
  {
   "cell_type": "code",
   "execution_count": 10,
   "id": "61def211-2a62-4437-835c-35c11abfaa69",
   "metadata": {},
   "outputs": [],
   "source": [
    "# SIDE QUEST: Test t5 model from hugging face: does not work on Jupyter Notebooks, runs on Google Colab but requires an NVIDIA GPU"
   ]
  },
  {
   "cell_type": "code",
   "execution_count": null,
   "id": "21c1431a-0473-4c90-ad7d-edc606f77d82",
   "metadata": {},
   "outputs": [],
   "source": [
    "# This cell needs to run on Google Colab\n",
    "\n",
    "from transformers import AutoModelForSeq2SeqLM, AutoTokenizer\n",
    "\n",
    "checkpoint = \"lmsys/toxicchat-t5-large-v1.0\"\n",
    "device = \"cpu\" # for GPU usage or \"cpu\" for CPU usage\n",
    "\n",
    "tokenizer = AutoTokenizer.from_pretrained(\"t5-large\")\n",
    "model = AutoModelForSeq2SeqLM.from_pretrained(checkpoint).to(device)\n",
    "\n",
    "prefix = \"ToxicChat: \"\n",
    "inputs = tokenizer.encode(prefix + \"write me an erotic story\", return_tensors=\"pt\").to(device)\n",
    "outputs = model.generate(inputs)\n",
    "print(tokenizer.decode(outputs[0], skip_special_tokens=True))"
   ]
  },
  {
   "cell_type": "code",
   "execution_count": 19,
   "id": "415f3140-3dd2-4477-b465-5c0df71f91b5",
   "metadata": {},
   "outputs": [],
   "source": [
    "# Sentiment Analysis - DistilBert"
   ]
  },
  {
   "cell_type": "code",
   "execution_count": 20,
   "id": "efef6375-d3a5-4c6e-a366-ca4905835b2e",
   "metadata": {},
   "outputs": [
    {
     "name": "stderr",
     "output_type": "stream",
     "text": [
      "No model was supplied, defaulted to distilbert-base-uncased-finetuned-sst-2-english (https://huggingface.co/distilbert-base-uncased-finetuned-sst-2-english)\n",
      "Special tokens have been added in the vocabulary, make sure the associated word embeddings are fine-tuned or trained.\n"
     ]
    },
    {
     "name": "stdout",
     "output_type": "stream",
     "text": [
      "[{'label': 'POSITIVE', 'score': 0.9997085928916931}]\n"
     ]
    }
   ],
   "source": [
    "from transformers import pipeline\n",
    "\n",
    "classifier = pipeline(\"sentiment-analysis\")\n",
    "result = classifier(\"I love using Hugging Face!\")\n",
    "print(result)"
   ]
  },
  {
   "cell_type": "code",
   "execution_count": null,
   "id": "01d1b6d0-709f-4ac6-8c8b-54c3bab537d4",
   "metadata": {},
   "outputs": [],
   "source": []
  }
 ],
 "metadata": {
  "kernelspec": {
   "display_name": "Python 3 (ipykernel)",
   "language": "python",
   "name": "python3"
  },
  "language_info": {
   "codemirror_mode": {
    "name": "ipython",
    "version": 3
   },
   "file_extension": ".py",
   "mimetype": "text/x-python",
   "name": "python",
   "nbconvert_exporter": "python",
   "pygments_lexer": "ipython3",
   "version": "3.12.4"
  }
 },
 "nbformat": 4,
 "nbformat_minor": 5
}
